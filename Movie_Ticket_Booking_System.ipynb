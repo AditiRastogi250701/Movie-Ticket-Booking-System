{
  "nbformat": 4,
  "nbformat_minor": 0,
  "metadata": {
    "colab": {
      "name": "Movie Ticket Booking System.ipynb",
      "provenance": [],
      "authorship_tag": "ABX9TyNLKN1f/kSK8AFackPf6+r2",
      "include_colab_link": true
    },
    "kernelspec": {
      "name": "python3",
      "display_name": "Python 3"
    },
    "language_info": {
      "name": "python"
    }
  },
  "cells": [
    {
      "cell_type": "markdown",
      "metadata": {
        "id": "view-in-github",
        "colab_type": "text"
      },
      "source": [
        "<a href=\"https://colab.research.google.com/github/AditiRastogi250701/Movie-Ticket-Booking-System/blob/main/Movie_Ticket_Booking_System.ipynb\" target=\"_parent\"><img src=\"https://colab.research.google.com/assets/colab-badge.svg\" alt=\"Open In Colab\"/></a>"
      ]
    },
    {
      "cell_type": "code",
      "source": [
        "from tkinter import *\n",
        "import sqlite3"
      ],
      "metadata": {
        "id": "T_YCKVogFANV"
      },
      "execution_count": null,
      "outputs": []
    },
    {
      "cell_type": "code",
      "source": [
        "root = Tk()\n",
        "root.title('Movie Management System')\n",
        "root.geometry('600x600')"
      ],
      "metadata": {
        "id": "GbaDuRx2F3Fk"
      },
      "execution_count": null,
      "outputs": []
    },
    {
      "cell_type": "code",
      "source": [
        "conn = sqlite3.connect('AddressBook.db')\n",
        "c = conn.cursor()"
      ],
      "metadata": {
        "id": "sjeNZ2-bFOe8"
      },
      "execution_count": null,
      "outputs": []
    },
    {
      "cell_type": "code",
      "source": [
        "CREATE TABLE addresses (\n",
        "\n",
        "def clear():\n",
        "    first_name.delete(0,END)\n",
        "    last_name.delete(0,END)\n",
        "    phone_number.delete(0,END)\n",
        "    address.delete(0,END)\n",
        "def submit():\n",
        "    conn = sqlite3.connect('AddressBook.db')\n",
        "    c = conn.cursor()\n",
        "    c.execute(\"INSERT INTO addresses VALUES(:fname,:lname,:phn,:address)\",\n",
        "                 {\n",
        "                     'fname':first_name.get(),\n",
        "                     'lname':last_name.get(),\n",
        "                     'phn':phone_number.get(),\n",
        "                     'address':address.get()\n",
        "                 })\n",
        "    conn.commit()\n",
        "    conn.close()\n",
        "    first_name.delete(0,END)\n",
        "    last_name.delete(0,END)\n",
        "    phone_number.delete(0,END)\n",
        "    address.delete(0,END)\n"
      ],
      "metadata": {
        "id": "0eMOi3skFZs1"
      },
      "execution_count": null,
      "outputs": []
    },
    {
      "cell_type": "code",
      "source": [
        "def query():\n",
        "    conn = sqlite3.connect('AddressBook.db')\n",
        "    c = conn.cursor()\n",
        "\n",
        "\n",
        "    c.execute(\"SELECT * FROM addresses\")\n",
        "    records = c.fetchall()\n",
        "    \n",
        "    ppl=Label(root,text=\"People who have filled this form want \",padx=20,pady=20)\n",
        "    ppl.grid(row=6,column=0)\n",
        "    \n",
        "    print_record = ''\n",
        "    for i in records:\n",
        "        print_record += str(\"Movie Name -> \"+i[0]) +\", Tickets Wanted -> \"+ str(i[1]) + \"\\n\"\n",
        "        \n",
        "    querry_label=Label(root,text=print_record)\n",
        "    querry_label.grid(row=7,column=0)\n",
        "    \n",
        "    conn.commit()\n",
        "    conn.close()\n"
      ],
      "metadata": {
        "id": "xtfrTpenFcjR"
      },
      "execution_count": null,
      "outputs": []
    },
    {
      "cell_type": "code",
      "source": [
        "first_name = Entry(root, width=30)\n",
        "first_name.grid(row=0, column=1,padx=20)\n",
        "first_Label = Label(root,text=\"Enter Movie name\")\n",
        "first_Label.grid(row=0,column=0,padx=20,pady=10)\n",
        "\n",
        "last_name = Entry(root, width=30)\n",
        "last_name.grid(row=1, column=1,padx=20)\n",
        "last_Label = Label(root,text=\"How many tickets do you want?\")\n",
        "last_Label.grid(row=1,column=0,pady=10)\n",
        "\n",
        "phone_number = Entry(root, width=30)\n",
        "phone_number.grid(row=2, column=1,padx=20)\n",
        "phno_Label = Label(root,text=\"Enter time slot\")\n",
        "phno_Label.grid(row=2,column=0,pady=10)\n",
        "\n",
        "address = Entry(root, width=30)\n",
        "address.grid(row=3, column=1,padx=20)\n",
        "adr_Label = Label(root,text=\"Enter location\")\n",
        "adr_Label.grid(row=3,column=0,pady=10)"
      ],
      "metadata": {
        "id": "5ltk2hpAFnk6"
      },
      "execution_count": null,
      "outputs": []
    },
    {
      "cell_type": "code",
      "execution_count": null,
      "metadata": {
        "id": "LKqwpDq_Eqrs"
      },
      "outputs": [],
      "source": [
        "clr = Button(root,text=\"Clear Input\",pady=10,command=clear)\n",
        "clr.grid(row=4,column=0)\n",
        "\n",
        "submt = Button(root,text=\"Submit\",pady=10,command=submit)\n",
        "submt.grid(row=4,column=1)\n",
        "\n",
        "qry = Button(root,text=\"Show Records\",pady=10,command=query)\n",
        "qry.grid(row=5,column=1)\n",
        "\n",
        "\n",
        "conn.commit()\n",
        "conn.close()\n",
        "\n",
        "root.mainloop()"
      ]
    }
  ]
}